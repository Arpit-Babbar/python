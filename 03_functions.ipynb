{
 "cells": [
  {
   "cell_type": "markdown",
   "metadata": {},
   "source": [
    "# Functions"
   ]
  },
  {
   "cell_type": "markdown",
   "metadata": {},
   "source": [
    "A function is something which takes some input arguments and returns one or more output values. These are called ```def``` in Python. They have following structure\n",
    "```\n",
    "def functionname(arg1,arg2,arg3):\n",
    "    DO SOME COMPUTATION\n",
    "    return result\n",
    "```\n",
    "Whenever some piece of computation is to be repeated many times, it is best to put it inside a function. This avoids code duplication, which minimizes errors and makes it easy to maintain your code."
   ]
  },
  {
   "cell_type": "code",
   "execution_count": 19,
   "metadata": {},
   "outputs": [],
   "source": [
    "import numpy as np"
   ]
  },
  {
   "cell_type": "markdown",
   "metadata": {},
   "source": [
    "## Sum two vectors"
   ]
  },
  {
   "cell_type": "code",
   "execution_count": 20,
   "metadata": {},
   "outputs": [],
   "source": [
    "def sum(x,y):\n",
    "    z = np.empty_like(x)\n",
    "    for i in range(len(x)):\n",
    "        z[i] = x[i] + y[i]\n",
    "    return z"
   ]
  },
  {
   "cell_type": "markdown",
   "metadata": {},
   "source": [
    "Now we can use this function."
   ]
  },
  {
   "cell_type": "code",
   "execution_count": 21,
   "metadata": {},
   "outputs": [
    {
     "name": "stdout",
     "output_type": "stream",
     "text": [
      "[3. 3. 3. 3. 3.]\n"
     ]
    }
   ],
   "source": [
    "n = 5\n",
    "x = np.ones(n)\n",
    "y = 2*x\n",
    "z = sum(x,y)\n",
    "print(z)"
   ]
  },
  {
   "cell_type": "markdown",
   "metadata": {},
   "source": [
    "## Check your inputs"
   ]
  },
  {
   "cell_type": "markdown",
   "metadata": {},
   "source": [
    "We can add two vectors only if they are of same size. It is always a good practice to check that your inputs are consistent."
   ]
  },
  {
   "cell_type": "code",
   "execution_count": 22,
   "metadata": {},
   "outputs": [],
   "source": [
    "def sum(x,y):\n",
    "    assert len(x) == len(y)\n",
    "    z = np.empty_like(x)\n",
    "    for i in range(len(x)):\n",
    "        z[i] = x[i] + y[i]\n",
    "    return z"
   ]
  },
  {
   "cell_type": "markdown",
   "metadata": {},
   "source": [
    "If you try to run the following code, it will give an error.\n",
    "\n",
    "```\n",
    "n = 5\n",
    "x = np.ones(n)\n",
    "y = np.ones(n+1)\n",
    "z = sum(x,y)\n",
    "```"
   ]
  },
  {
   "cell_type": "markdown",
   "metadata": {},
   "source": [
    "## Minimum value of an array"
   ]
  },
  {
   "cell_type": "code",
   "execution_count": 23,
   "metadata": {},
   "outputs": [],
   "source": [
    "def minval(x):\n",
    "    val = x[0]\n",
    "    for xx in x:\n",
    "        if xx < val:\n",
    "            val = xx\n",
    "    return val"
   ]
  },
  {
   "cell_type": "code",
   "execution_count": 24,
   "metadata": {},
   "outputs": [
    {
     "name": "stdout",
     "output_type": "stream",
     "text": [
      "[0.32127161 0.07449042 0.68241541 0.24058882 0.43664678 0.43921791\n",
      " 0.36189785 0.01842539 0.23093049 0.00381951]\n",
      "Minimum =  0.003819511598844638\n"
     ]
    }
   ],
   "source": [
    "x = np.random.rand(10)\n",
    "mval = minval(x)\n",
    "print(x)\n",
    "print('Minimum = ',mval)"
   ]
  },
  {
   "cell_type": "markdown",
   "metadata": {},
   "source": [
    "## Min and max of an array"
   ]
  },
  {
   "cell_type": "code",
   "execution_count": 25,
   "metadata": {},
   "outputs": [],
   "source": [
    "def minmax(x):\n",
    "    min_val = x[0]\n",
    "    max_val = x[0]\n",
    "    for xx in x:\n",
    "        if xx < min_val:\n",
    "            min_val = xx\n",
    "        if xx > max_val:\n",
    "            max_val = xx\n",
    "    return min_val, max_val"
   ]
  },
  {
   "cell_type": "markdown",
   "metadata": {},
   "source": [
    "The type of returned object is `tuple`."
   ]
  },
  {
   "cell_type": "code",
   "execution_count": 26,
   "metadata": {},
   "outputs": [
    {
     "name": "stdout",
     "output_type": "stream",
     "text": [
      "[0.84803642 0.02267149 0.59591088 0.77462904 0.81779163]\n",
      "Minimum = 0.022671494823164995\n",
      "Maximum = 0.8480364187991306\n"
     ]
    }
   ],
   "source": [
    "x = np.random.rand(5)\n",
    "min_val, max_val = minmax(x)\n",
    "print(x)\n",
    "print('Minimum =',min_val)\n",
    "print('Maximum =',max_val)"
   ]
  },
  {
   "cell_type": "markdown",
   "metadata": {},
   "source": [
    "## Problems"
   ]
  },
  {
   "cell_type": "markdown",
   "metadata": {},
   "source": [
    "Write a function to perform the following.\n",
    " * Compute $L^1$ norm of an array\n",
    " * Compute $L^2$ norm of an array\n",
    " * Compute $L^\\infty$ norm of an array\n",
    " * Return an array which is element-wise minimum of two arrays\n",
    " * Compute matrix-vector product\n",
    " * Add two given matrices\n",
    " * Multiply two given matrices"
   ]
  }
 ],
 "metadata": {
  "kernelspec": {
   "display_name": "Python 3",
   "language": "python",
   "name": "python3"
  },
  "language_info": {
   "codemirror_mode": {
    "name": "ipython",
    "version": 3
   },
   "file_extension": ".py",
   "mimetype": "text/x-python",
   "name": "python",
   "nbconvert_exporter": "python",
   "pygments_lexer": "ipython3",
   "version": "3.9.1"
  }
 },
 "nbformat": 4,
 "nbformat_minor": 2
}
