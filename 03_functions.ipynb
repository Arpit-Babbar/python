{
 "cells": [
  {
   "cell_type": "markdown",
   "metadata": {},
   "source": [
    "# Functions"
   ]
  },
  {
   "cell_type": "markdown",
   "metadata": {},
   "source": [
    "A function is something which takes some input arguments and returns one or more output values. These are called ```def``` in Python. They have following structure\n",
    "```\n",
    "def functionname(arg1,arg2,arg3):\n",
    "    DO SOME COMPUTATION\n",
    "    return result\n",
    "```\n",
    "Whenever some piece of computation is to be repeated many times, it is best to put it inside a function. This avoids code duplication, which minimizes errors and makes it easy to maintain your code."
   ]
  },
  {
   "cell_type": "code",
   "execution_count": 1,
   "metadata": {},
   "outputs": [],
   "source": [
    "import numpy as np"
   ]
  },
  {
   "cell_type": "markdown",
   "metadata": {},
   "source": [
    "## Sum two vectors"
   ]
  },
  {
   "cell_type": "code",
   "execution_count": 2,
   "metadata": {},
   "outputs": [],
   "source": [
    "def sum(x,y):\n",
    "    z = np.empty_like(x)\n",
    "    for i in range(len(x)):\n",
    "        z[i] = x[i] + y[i]\n",
    "    return z"
   ]
  },
  {
   "cell_type": "markdown",
   "metadata": {},
   "source": [
    "Now we can use this function."
   ]
  },
  {
   "cell_type": "code",
   "execution_count": 3,
   "metadata": {},
   "outputs": [
    {
     "name": "stdout",
     "output_type": "stream",
     "text": [
      "[3. 3. 3. 3. 3.]\n"
     ]
    }
   ],
   "source": [
    "n = 5\n",
    "x = np.ones(n)\n",
    "y = 2*x\n",
    "z = sum(x,y)\n",
    "print(z)"
   ]
  },
  {
   "cell_type": "markdown",
   "metadata": {},
   "source": [
    "## Check your inputs"
   ]
  },
  {
   "cell_type": "markdown",
   "metadata": {},
   "source": [
    "We can add two vectors only if they are of same size. It is always a good practice to check that your inputs are consistent."
   ]
  },
  {
   "cell_type": "code",
   "execution_count": 4,
   "metadata": {},
   "outputs": [],
   "source": [
    "def sum(x,y):\n",
    "    assert len(x) == len(y)\n",
    "    z = np.empty_like(x)\n",
    "    for i in range(len(x)):\n",
    "        z[i] = x[i] + y[i]\n",
    "    return z"
   ]
  },
  {
   "cell_type": "markdown",
   "metadata": {},
   "source": [
    "If you try to run the following code, it will give an error.\n",
    "\n",
    "```\n",
    "n = 5\n",
    "x = np.ones(n)\n",
    "y = np.ones(n+1)\n",
    "z = sum(x,y)\n",
    "```"
   ]
  },
  {
   "cell_type": "markdown",
   "metadata": {},
   "source": [
    "## Minimum value of an array"
   ]
  },
  {
   "cell_type": "code",
   "execution_count": 5,
   "metadata": {},
   "outputs": [],
   "source": [
    "def minval(x):\n",
    "    val = x[0]\n",
    "    for xx in x:\n",
    "        if xx < val:\n",
    "            val = xx\n",
    "    return val"
   ]
  },
  {
   "cell_type": "code",
   "execution_count": 6,
   "metadata": {},
   "outputs": [
    {
     "name": "stdout",
     "output_type": "stream",
     "text": [
      "[0.635717   0.28752514 0.53828984 0.78806766 0.28023258 0.17803009\n",
      " 0.66597826 0.10646164 0.26776443 0.73165669]\n",
      "Minimum =  0.10646164043942785\n"
     ]
    }
   ],
   "source": [
    "x = np.random.rand(10)\n",
    "mval = minval(x)\n",
    "print(x)\n",
    "print('Minimum = ',mval)"
   ]
  },
  {
   "cell_type": "markdown",
   "metadata": {},
   "source": [
    "## Min and max of an array"
   ]
  },
  {
   "cell_type": "code",
   "execution_count": 7,
   "metadata": {},
   "outputs": [],
   "source": [
    "def minmax(x):\n",
    "    min_val = x[0]\n",
    "    max_val = x[0]\n",
    "    for xx in x:\n",
    "        if xx < min_val:\n",
    "            min_val = xx\n",
    "        if xx > max_val:\n",
    "            max_val = xx\n",
    "    return min_val, max_val"
   ]
  },
  {
   "cell_type": "markdown",
   "metadata": {},
   "source": [
    "The type of returned object is `tuple`."
   ]
  },
  {
   "cell_type": "code",
   "execution_count": 8,
   "metadata": {},
   "outputs": [
    {
     "name": "stdout",
     "output_type": "stream",
     "text": [
      "[0.113349   0.31298267 0.07672623 0.52426349 0.6707102 ]\n",
      "Minimum = 0.07672622520178118\n",
      "Maximum = 0.670710204251887\n"
     ]
    }
   ],
   "source": [
    "x = np.random.rand(5)\n",
    "min_val, max_val = minmax(x)\n",
    "print(x)\n",
    "print('Minimum =',min_val)\n",
    "print('Maximum =',max_val)"
   ]
  },
  {
   "cell_type": "markdown",
   "metadata": {},
   "source": [
    "## lambda: for simple functions\n",
    "\n",
    "If the function definition is simple we can define them using lambda"
   ]
  },
  {
   "cell_type": "code",
   "execution_count": 10,
   "metadata": {},
   "outputs": [
    {
     "name": "stdout",
     "output_type": "stream",
     "text": [
      "Minimum = -0.9998741276738751\n",
      "Maximum = 0.9998741276738751\n"
     ]
    }
   ],
   "source": [
    "f = lambda x: np.sin(2*np.pi*x)\n",
    "x = np.linspace(0.0, 1.0, 100)\n",
    "y = f(x)\n",
    "min_val, max_val = minmax(y)\n",
    "print('Minimum =',min_val)\n",
    "print('Maximum =',max_val)"
   ]
  },
  {
   "cell_type": "markdown",
   "metadata": {},
   "source": [
    "## Problems"
   ]
  },
  {
   "cell_type": "markdown",
   "metadata": {},
   "source": [
    "Write a function to perform the following.\n",
    " * Compute $L^1$ norm of an array\n",
    " * Compute $L^2$ norm of an array\n",
    " * Compute $L^\\infty$ norm of an array\n",
    " * Return an array which is element-wise minimum of two arrays\n",
    " * Compute matrix-vector product\n",
    " * Add two given matrices\n",
    " * Multiply two given matrices"
   ]
  }
 ],
 "metadata": {
  "kernelspec": {
   "display_name": "Python 3",
   "language": "python",
   "name": "python3"
  },
  "language_info": {
   "codemirror_mode": {
    "name": "ipython",
    "version": 3
   },
   "file_extension": ".py",
   "mimetype": "text/x-python",
   "name": "python",
   "nbconvert_exporter": "python",
   "pygments_lexer": "ipython3",
   "version": "3.8.10"
  }
 },
 "nbformat": 4,
 "nbformat_minor": 2
}
