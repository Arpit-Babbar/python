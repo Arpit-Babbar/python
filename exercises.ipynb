{
 "cells": [
  {
   "cell_type": "markdown",
   "id": "d3bd62e9",
   "metadata": {},
   "source": [
    "# Exercises"
   ]
  },
  {
   "cell_type": "markdown",
   "id": "fd4e9565",
   "metadata": {},
   "source": [
    "## Solve an ODE\n",
    "\n",
    "$\\newcommand{\\ud}{\\mathrm{d}}$\n",
    "$\\newcommand{\\od}[2]{\\frac{\\ud #1}{\\ud #2}}$\n",
    "\n",
    "Consider the ODE\n",
    "$$\n",
    "\\od{u}{t} = f(t,u), \\qquad u(0) = u_0, \\qquad t \\in [0,T]\n",
    "$$\n",
    "Choose a step size $\\Delta t$ and define the time levels\n",
    "$$\n",
    "t_n = n \\Delta t\n",
    "$$\n",
    "Let $v_n$ be a numerical approximation to the true solution\n",
    "$$\n",
    "v_n \\approx u(t_n)\n",
    "$$\n",
    "\n",
    "Consider these two methods.\n",
    "\n",
    "**Forward Euler method**\n",
    "$$\n",
    "v_{n+1} = v_n + \\Delta t f(v_n, t_n) \n",
    "$$\n",
    "\n",
    "**Heun's method**\n",
    "\\begin{eqnarray*}\n",
    "v^{(1)} &=& v_n + \\Delta t f(v_n, t_n) \\\\\n",
    "v_{n+1} &=& v_n + \\frac{\\Delta t}{2} [f(v_n, t_n) + f(v^{(1)}, t_n + \\Delta t)]\n",
    "\\end{eqnarray*}\n",
    "\n",
    "Consider the problem\n",
    "$$\n",
    "\\od{u}{t} = u, \\qquad u(0) = 1, \\qquad t \\in [0,1]\n",
    "$$\n",
    "whose exact solution is\n",
    "$$\n",
    "u(t) = \\exp(t)\n",
    "$$\n",
    "\n",
    " 1. Write code to implement the above two methods.\n",
    " 1. Obtain the numerical solution for different values of step size:\n",
    " $$\n",
    " \\Delta t \\in \\left\\{ \\frac{0.1}{2^m} : m = 0,1,2,3,4 \\right\\}\n",
    " $$\n",
    " and plot them on a figure along with exact solution.\n",
    " 1. Compute the error at final time $T=1$ which depends on $\\Delta t$: $E(\\Delta t)$.\n",
    " 1. Plot $E(\\Delta t)$ vs $\\Delta t$ in loglog scale, which looks like a straight line, suggesting that\n",
    " $$\n",
    " E(\\Delta t) = C \\Delta t^p, \\qquad p > 0\n",
    " $$\n",
    " Estimate the value of $C$ and $p$."
   ]
  }
 ],
 "metadata": {
  "kernelspec": {
   "display_name": "Python 3 (ipykernel)",
   "language": "python",
   "name": "python3"
  },
  "language_info": {
   "codemirror_mode": {
    "name": "ipython",
    "version": 3
   },
   "file_extension": ".py",
   "mimetype": "text/x-python",
   "name": "python",
   "nbconvert_exporter": "python",
   "pygments_lexer": "ipython3",
   "version": "3.9.9"
  }
 },
 "nbformat": 4,
 "nbformat_minor": 5
}
