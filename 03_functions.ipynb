{
 "cells": [
  {
   "cell_type": "markdown",
   "metadata": {},
   "source": [
    "# Functions"
   ]
  },
  {
   "cell_type": "markdown",
   "metadata": {},
   "source": [
    "$\\newcommand{\\re}{\\mathbb{R}}$\n",
    "A function is something which takes some input arguments and returns one or more output values. These are called ```def``` in Python, short for definition. They have following structure\n",
    "```\n",
    "def functionname(arg1,arg2,arg3):\n",
    "    DO SOME COMPUTATION\n",
    "    return result\n",
    "```\n",
    "The body of the function must be indented.\n",
    "\n",
    "Whenever some piece of computation is to be repeated many times, it is best to put it inside a function. This avoids code duplication, which minimizes errors and makes it easy to maintain your code."
   ]
  },
  {
   "cell_type": "code",
   "execution_count": 7,
   "metadata": {},
   "outputs": [],
   "source": [
    "import numpy as np"
   ]
  },
  {
   "cell_type": "markdown",
   "metadata": {},
   "source": [
    "## Sum two vectors\n",
    "\n",
    "For $x, y \\in \\re^n$, compute $z \\in \\re^n$ by\n",
    "$$\n",
    "z_i = x_i + y_i, \\qquad 0 \\le i \\le n-1\n",
    "$$"
   ]
  },
  {
   "cell_type": "code",
   "execution_count": 8,
   "metadata": {},
   "outputs": [],
   "source": [
    "def sum(x,y):\n",
    "    z = np.empty_like(x)\n",
    "    for i in range(len(x)):\n",
    "        z[i] = x[i] + y[i]\n",
    "    return z"
   ]
  },
  {
   "cell_type": "markdown",
   "metadata": {},
   "source": [
    "Now we can use this function."
   ]
  },
  {
   "cell_type": "code",
   "execution_count": 9,
   "metadata": {},
   "outputs": [
    {
     "name": "stdout",
     "output_type": "stream",
     "text": [
      "[3. 3. 3. 3. 3.]\n",
      "[0. 0. 0. 0. 0.]\n"
     ]
    }
   ],
   "source": [
    "n = 5\n",
    "x = np.ones(n)\n",
    "y = 2*x\n",
    "z = sum(x,y)\n",
    "print(z)\n",
    "print(z - (x + y))"
   ]
  },
  {
   "cell_type": "markdown",
   "metadata": {},
   "source": [
    "## Check your inputs"
   ]
  },
  {
   "cell_type": "markdown",
   "metadata": {},
   "source": [
    "We can add two vectors only if they are of same size. It is always a good practice to check that your inputs are consistent."
   ]
  },
  {
   "cell_type": "code",
   "execution_count": 10,
   "metadata": {},
   "outputs": [],
   "source": [
    "def sum(x,y):\n",
    "    assert len(x) == len(y)\n",
    "    z = np.empty_like(x)\n",
    "    for i in range(len(x)):\n",
    "        z[i] = x[i] + y[i]\n",
    "    return z"
   ]
  },
  {
   "cell_type": "markdown",
   "metadata": {},
   "source": [
    "If you try to run the following code, it will give an error.\n",
    "\n",
    "```\n",
    "n = 5\n",
    "x = np.ones(n)\n",
    "y = np.ones(n+1)\n",
    "z = sum(x,y)\n",
    "```"
   ]
  },
  {
   "cell_type": "markdown",
   "metadata": {},
   "source": [
    "## Minimum value of an array\n",
    "Given $x \\in \\re^n$, compute\n",
    "$$\n",
    "m = \\min_{0 \\le i \\le n-1} x_i\n",
    "$$"
   ]
  },
  {
   "cell_type": "code",
   "execution_count": 11,
   "metadata": {},
   "outputs": [],
   "source": [
    "def minval(x):\n",
    "    val = x[0]\n",
    "    for v in x:\n",
    "        if v < val:\n",
    "            val = v\n",
    "    return val"
   ]
  },
  {
   "cell_type": "code",
   "execution_count": 12,
   "metadata": {},
   "outputs": [
    {
     "name": "stdout",
     "output_type": "stream",
     "text": [
      "[0.69622184 0.1443152  0.15649319 0.10424156 0.95047178 0.80529603\n",
      " 0.38125967 0.56197297 0.19446351 0.73657196]\n",
      "Minimum =  0.10424155928488943\n"
     ]
    }
   ],
   "source": [
    "x = np.random.rand(10)\n",
    "mval = minval(x)\n",
    "print(x)\n",
    "print('Minimum = ',mval)"
   ]
  },
  {
   "cell_type": "markdown",
   "metadata": {},
   "source": [
    "## Min and max of an array\n",
    "Given $x \\in \\re^n$, compute\n",
    "$$\n",
    "m = \\min_{0 \\le i \\le n-1} x_i, \\qquad\n",
    "M = \\max_{0 \\le i \\le n-1} x_i\n",
    "$$"
   ]
  },
  {
   "cell_type": "code",
   "execution_count": 13,
   "metadata": {},
   "outputs": [],
   "source": [
    "def minmax(x):\n",
    "    min_val = x[0]\n",
    "    max_val = x[0]\n",
    "    for v in x:\n",
    "        if v < min_val:\n",
    "            min_val = v\n",
    "        if v > max_val:\n",
    "            max_val = v\n",
    "    return min_val, max_val"
   ]
  },
  {
   "cell_type": "markdown",
   "metadata": {},
   "source": [
    "The type of returned object is `tuple`."
   ]
  },
  {
   "cell_type": "code",
   "execution_count": 14,
   "metadata": {},
   "outputs": [
    {
     "name": "stdout",
     "output_type": "stream",
     "text": [
      "[0.56967862 0.13373659 0.37886058 0.01243749 0.14506788]\n",
      "Minimum = 0.012437491730270533\n",
      "Maximum = 0.5696786190608613\n"
     ]
    }
   ],
   "source": [
    "x = np.random.rand(5)\n",
    "min_val, max_val = minmax(x)\n",
    "print(x)\n",
    "print('Minimum =',min_val)\n",
    "print('Maximum =',max_val)"
   ]
  },
  {
   "cell_type": "markdown",
   "metadata": {},
   "source": [
    "## lambda: for simple functions\n",
    "\n",
    "If the function definition is simple we can define them using lambda\n",
    "$$\n",
    "f(x) = \\sin(2\\pi x)\n",
    "$$"
   ]
  },
  {
   "cell_type": "code",
   "execution_count": 15,
   "metadata": {},
   "outputs": [
    {
     "name": "stdout",
     "output_type": "stream",
     "text": [
      "Minimum = -0.9998741276738751\n",
      "Maximum = 0.9998741276738751\n"
     ]
    }
   ],
   "source": [
    "f = lambda x: np.sin(2*np.pi*x)\n",
    "x = np.linspace(0.0, 1.0, 100)\n",
    "y = f(x)\n",
    "min_val, max_val = minmax(y)\n",
    "print('Minimum =',min_val)\n",
    "print('Maximum =',max_val)"
   ]
  },
  {
   "cell_type": "markdown",
   "metadata": {},
   "source": [
    "We can define lambda's with more than one argument."
   ]
  },
  {
   "cell_type": "code",
   "execution_count": 16,
   "metadata": {},
   "outputs": [
    {
     "name": "stdout",
     "output_type": "stream",
     "text": [
      "-0.2938926261462344\n"
     ]
    }
   ],
   "source": [
    "g = lambda x,y: np.sin(2*np.pi*x) * np.cos(2*np.pi*y)\n",
    "z = g(1.2, 2.3)\n",
    "print(z)"
   ]
  },
  {
   "cell_type": "markdown",
   "metadata": {},
   "source": [
    "## Variables inside functions are local"
   ]
  },
  {
   "cell_type": "code",
   "execution_count": 17,
   "metadata": {},
   "outputs": [],
   "source": [
    "def fun1(x):\n",
    "    a = 1\n",
    "    print(x + a)\n",
    "\n",
    "def fun2(x):\n",
    "    a = 2\n",
    "    print(x + a)\n",
    "\n",
    "def fun3(x):\n",
    "    print(x + a)"
   ]
  },
  {
   "cell_type": "markdown",
   "metadata": {},
   "source": [
    "The variable `a` inside these functions are local variables and have different values."
   ]
  },
  {
   "cell_type": "code",
   "execution_count": 18,
   "metadata": {},
   "outputs": [
    {
     "name": "stdout",
     "output_type": "stream",
     "text": [
      "2\n",
      "3\n"
     ]
    },
    {
     "ename": "NameError",
     "evalue": "name 'a' is not defined",
     "output_type": "error",
     "traceback": [
      "\u001b[0;31m---------------------------------------------------------------------------\u001b[0m",
      "\u001b[0;31mNameError\u001b[0m                                 Traceback (most recent call last)",
      "Cell \u001b[0;32mIn [18], line 3\u001b[0m\n\u001b[1;32m      1\u001b[0m fun1(\u001b[39m1\u001b[39m)\n\u001b[1;32m      2\u001b[0m fun2(\u001b[39m1\u001b[39m)\n\u001b[0;32m----> 3\u001b[0m fun3(\u001b[39m1\u001b[39;49m)\n",
      "Cell \u001b[0;32mIn [17], line 10\u001b[0m, in \u001b[0;36mfun3\u001b[0;34m(x)\u001b[0m\n\u001b[1;32m      9\u001b[0m \u001b[39mdef\u001b[39;00m \u001b[39mfun3\u001b[39m(x):\n\u001b[0;32m---> 10\u001b[0m     \u001b[39mprint\u001b[39m(x \u001b[39m+\u001b[39m a)\n",
      "\u001b[0;31mNameError\u001b[0m: name 'a' is not defined"
     ]
    }
   ],
   "source": [
    "fun1(1)\n",
    "fun2(1)\n",
    "fun3(1)"
   ]
  },
  {
   "cell_type": "markdown",
   "metadata": {},
   "source": [
    "Variable `a` is not visible in `fun3` since it is a local variable in `fun1` and `fun2`."
   ]
  },
  {
   "cell_type": "code",
   "execution_count": 19,
   "metadata": {},
   "outputs": [],
   "source": [
    "p = 1.234\n",
    "\n",
    "def fun4(x):\n",
    "    p = 1.0\n",
    "    print(x + p)\n",
    "\n",
    "def fun5(x):\n",
    "    print(x + p)"
   ]
  },
  {
   "cell_type": "markdown",
   "metadata": {},
   "source": [
    "The variable `p = 1.234` is a global variable."
   ]
  },
  {
   "cell_type": "code",
   "execution_count": 20,
   "metadata": {},
   "outputs": [
    {
     "name": "stdout",
     "output_type": "stream",
     "text": [
      "2.0\n",
      "2.234\n"
     ]
    }
   ],
   "source": [
    "\n",
    "fun4(1.0)\n",
    "fun5(1.0)"
   ]
  },
  {
   "cell_type": "markdown",
   "metadata": {},
   "source": [
    "The variable `p = 1.0` is a local variable in `fun4`. But in `fun5`, the global variable `p = 1.234` is used since there is no local variable of the same name. \n",
    "\n",
    "You have to be very careful with global variables. If you forget to declare some variable inside a function, and a global variable with the same name exists, then your program will run but likely give wrong answers. We should ideally never use global variables, but they are rampant in jupyter notebooks. To avoid global variables, you have to declare ALL variables inside functions and not declare anything in the global scope."
   ]
  }
 ],
 "metadata": {
  "kernelspec": {
   "display_name": "Python 3.10.7 ('base')",
   "language": "python",
   "name": "python3"
  },
  "language_info": {
   "codemirror_mode": {
    "name": "ipython",
    "version": 3
   },
   "file_extension": ".py",
   "mimetype": "text/x-python",
   "name": "python",
   "nbconvert_exporter": "python",
   "pygments_lexer": "ipython3",
   "version": "3.10.7"
  },
  "vscode": {
   "interpreter": {
    "hash": "c6e4e9f98eb68ad3b7c296f83d20e6de614cb42e90992a65aa266555a3137d0d"
   }
  }
 },
 "nbformat": 4,
 "nbformat_minor": 2
}
