{
 "cells": [
  {
   "cell_type": "markdown",
   "metadata": {},
   "source": [
    "# Introduction to Python for computing"
   ]
  },
  {
   "cell_type": "markdown",
   "metadata": {},
   "source": [
    "Python comes in two versions, 2 and 3. Version 2 is still available on most computers but will be soon deprecated. Hence we will use version 3 throughout these lectures.\n",
    "\n",
    "Usually Python is available on Linux/Unix computers, though it may not provide all the required libraries. You can install them using your system package manager (apt on Debian/Ubuntu) or by installing a full Python distribution like Anaconda.\n",
    "\n",
    "Some of the useful Python modules are\n",
    "\n",
    " * numpy: provides arrays, linear algebra, random numbers, etc.\n",
    " * scipy: integration, optimization, linear algebra\n",
    " * matplotlib: for making graphs\n",
    " * sympy: symbolic math\n",
    "\n",
    "There are several ways to use Python.\n",
    " * python: very basic, does not have interactivity or help\n",
    " \n",
    "```\n",
    " $ python3\n",
    "Python 3.6.6 |Anaconda, Inc.| (default, Jun 28 2018, 11:07:29) \n",
    "[GCC 4.2.1 Compatible Clang 4.0.1 (tags/RELEASE_401/final)] on darwin\n",
    "Type \"help\", \"copyright\", \"credits\" or \"license\" for more information.\n",
    ">>> \n",
    "```\n",
    "\n",
    " * ipython: better python terminal\n",
    " \n",
    "```\n",
    "$ ipython\n",
    "Python 3.6.6 |Anaconda, Inc.| (default, Jun 28 2018, 11:07:29) \n",
    "Type 'copyright', 'credits' or 'license' for more information\n",
    "IPython 6.5.0 -- An enhanced Interactive Python. Type '?' for help.\n",
    "\n",
    "In [1]:\n",
    "```\n",
    "\n",
    " * jupyter notebook: This is what you are reading now. On some computers you can start a notebook using\n",
    " \n",
    "```\n",
    "$ ipython notebook (old way)\n",
    "$ jupyter-notebook (new way)\n",
    "```"
   ]
  },
  {
   "cell_type": "markdown",
   "metadata": {},
   "source": [
    "## Basic math"
   ]
  },
  {
   "cell_type": "markdown",
   "metadata": {},
   "source": [
    "In Python, we can directly use variables without declaring their type. This is in contrast to most other programming languages like Fortran/C/C++ where the type of variable has to be declared before using it."
   ]
  },
  {
   "cell_type": "code",
   "execution_count": 2,
   "metadata": {},
   "outputs": [
    {
     "name": "stdout",
     "output_type": "stream",
     "text": [
      "3\n"
     ]
    }
   ],
   "source": [
    "x = 1\n",
    "y = 2\n",
    "z = x + y\n",
    "print(z)"
   ]
  },
  {
   "cell_type": "markdown",
   "metadata": {},
   "source": [
    "The type of the variable is automatically determined by what we assign to it."
   ]
  },
  {
   "cell_type": "code",
   "execution_count": 3,
   "metadata": {},
   "outputs": [
    {
     "name": "stdout",
     "output_type": "stream",
     "text": [
      "<class 'int'> <class 'int'> <class 'int'>\n"
     ]
    }
   ],
   "source": [
    "print(type(x),type(y),type(z))"
   ]
  },
  {
   "cell_type": "code",
   "execution_count": 4,
   "metadata": {},
   "outputs": [
    {
     "name": "stdout",
     "output_type": "stream",
     "text": [
      "3.0\n",
      "<class 'float'>\n"
     ]
    }
   ],
   "source": [
    "x = 1.0\n",
    "y = 2.0\n",
    "z = x + y\n",
    "print(z)\n",
    "print(type(z))"
   ]
  },
  {
   "cell_type": "markdown",
   "metadata": {},
   "source": [
    "It is good practice to assign numerical values based on their intended type. If you want `x` to be a float then assign its value as `x = 1.0` and not as `x = 1`.\n",
    "\n",
    "Python will automatically determine the type when you have mixed types in some expression."
   ]
  },
  {
   "cell_type": "code",
   "execution_count": 5,
   "metadata": {},
   "outputs": [
    {
     "name": "stdout",
     "output_type": "stream",
     "text": [
      "3.345\n",
      "<class 'int'> <class 'float'> <class 'float'>\n"
     ]
    }
   ],
   "source": [
    "a = 1\n",
    "b = 2.345\n",
    "c = a + b\n",
    "print(c)\n",
    "print(type(a),type(b),type(c))"
   ]
  },
  {
   "cell_type": "markdown",
   "metadata": {},
   "source": [
    "Division is performed using backslash symbol"
   ]
  },
  {
   "cell_type": "code",
   "execution_count": 6,
   "metadata": {},
   "outputs": [
    {
     "name": "stdout",
     "output_type": "stream",
     "text": [
      "0.3333333333333333\n"
     ]
    }
   ],
   "source": [
    "x = 1.0\n",
    "y = 3.0\n",
    "z = x/y\n",
    "print(z)"
   ]
  },
  {
   "cell_type": "markdown",
   "metadata": {},
   "source": [
    "Raising to some power \n",
    "$$\n",
    "c = a^b\n",
    "$$\n",
    "is done like this"
   ]
  },
  {
   "cell_type": "code",
   "execution_count": 7,
   "metadata": {},
   "outputs": [
    {
     "name": "stdout",
     "output_type": "stream",
     "text": [
      "9\n"
     ]
    }
   ],
   "source": [
    "a, b = 3, 2\n",
    "c = a**b\n",
    "print(c)"
   ]
  },
  {
   "cell_type": "markdown",
   "metadata": {},
   "source": [
    "## Math functions"
   ]
  },
  {
   "cell_type": "markdown",
   "metadata": {},
   "source": [
    "The basic Python language does not have mathematical functions like sin, cos, etc. These are implemented in additional modules. The `math` module provides many of these standard functions. We have to first import the module like this"
   ]
  },
  {
   "cell_type": "code",
   "execution_count": 8,
   "metadata": {},
   "outputs": [],
   "source": [
    "import math"
   ]
  },
  {
   "cell_type": "markdown",
   "metadata": {},
   "source": [
    "Now we can use the functions available in this module."
   ]
  },
  {
   "cell_type": "code",
   "execution_count": 9,
   "metadata": {},
   "outputs": [
    {
     "name": "stdout",
     "output_type": "stream",
     "text": [
      "-0.5440211108893699\n"
     ]
    }
   ],
   "source": [
    "x = 10.0\n",
    "z = math.sin(x)\n",
    "print(z)"
   ]
  },
  {
   "cell_type": "code",
   "execution_count": 10,
   "metadata": {},
   "outputs": [
    {
     "name": "stdout",
     "output_type": "stream",
     "text": [
      "3.141592653589793\n"
     ]
    }
   ],
   "source": [
    "pi = math.pi\n",
    "print(pi)"
   ]
  },
  {
   "cell_type": "markdown",
   "metadata": {},
   "source": [
    "## On import"
   ]
  },
  {
   "cell_type": "markdown",
   "metadata": {},
   "source": [
    "We can also import everything into the current workspace using\n",
    "\n",
    "```\n",
    "from math import *\n",
    "```\n",
    "\n",
    "Then we can use it without prepending ```math.``` but this is not recommended usage. We can also import only what we need, e.g.,\n",
    "\n",
    "```\n",
    "from math import sin,cos\n",
    "```"
   ]
  },
  {
   "cell_type": "markdown",
   "metadata": {},
   "source": [
    "## Lists"
   ]
  },
  {
   "cell_type": "markdown",
   "metadata": {},
   "source": [
    "Lists allow us to store a collection of objects. Here is a list of integers"
   ]
  },
  {
   "cell_type": "code",
   "execution_count": 11,
   "metadata": {},
   "outputs": [
    {
     "name": "stdout",
     "output_type": "stream",
     "text": [
      "[1, 2, 3, 4, 5]\n"
     ]
    }
   ],
   "source": [
    "a = [1, 2, 3, 4, 5]\n",
    "print(a)"
   ]
  },
  {
   "cell_type": "markdown",
   "metadata": {},
   "source": [
    "But lists can be made up of different types of elements."
   ]
  },
  {
   "cell_type": "code",
   "execution_count": 12,
   "metadata": {},
   "outputs": [
    {
     "name": "stdout",
     "output_type": "stream",
     "text": [
      "[1, 2.0, 3.0, 4, 'x']\n"
     ]
    }
   ],
   "source": [
    "b = [1, 2.0, 3.0, 4, 'x']\n",
    "print(b)"
   ]
  },
  {
   "cell_type": "markdown",
   "metadata": {},
   "source": [
    "Lists look like vectors but they do not obey rules of algebra."
   ]
  },
  {
   "cell_type": "code",
   "execution_count": 13,
   "metadata": {},
   "outputs": [
    {
     "name": "stdout",
     "output_type": "stream",
     "text": [
      "[1, 2, 3, 5, 6, 7]\n"
     ]
    }
   ],
   "source": [
    "x = [1, 2, 3]\n",
    "y = [5, 6, 7]\n",
    "print(x + y)"
   ]
  },
  {
   "cell_type": "markdown",
   "metadata": {},
   "source": [
    "Note that ```x``` and ```y``` have been concatenated. So a list behaves more like a set, but they are not sets since elements can be repeated. To get the behaviour of vector addition, use Numpy arrays which we discuss later.\n",
    "\n",
    "We can access an element of a list using its index"
   ]
  },
  {
   "cell_type": "code",
   "execution_count": 14,
   "metadata": {},
   "outputs": [
    {
     "name": "stdout",
     "output_type": "stream",
     "text": [
      "x = [1, 2, 3]\n",
      "x[0] = 1\n",
      "x[1] = 2\n",
      "x[2] = 3\n"
     ]
    }
   ],
   "source": [
    "print('x =',x)\n",
    "print('x[0] =',x[0])\n",
    "print('x[1] =',x[1])\n",
    "print('x[2] =',x[2])"
   ]
  },
  {
   "cell_type": "markdown",
   "metadata": {},
   "source": [
    "**Note**: Indices in Python start from 0.\n",
    "\n",
    "You can get the length of a list using ```len```."
   ]
  },
  {
   "cell_type": "code",
   "execution_count": 15,
   "metadata": {},
   "outputs": [
    {
     "name": "stdout",
     "output_type": "stream",
     "text": [
      "[1, 2, 3]\n",
      "3\n"
     ]
    }
   ],
   "source": [
    "print(x)\n",
    "print(len(x))"
   ]
  },
  {
   "cell_type": "markdown",
   "metadata": {},
   "source": [
    "## For loops"
   ]
  },
  {
   "cell_type": "code",
   "execution_count": 16,
   "metadata": {},
   "outputs": [
    {
     "name": "stdout",
     "output_type": "stream",
     "text": [
      "0\n",
      "1\n",
      "2\n",
      "3\n",
      "4\n"
     ]
    }
   ],
   "source": [
    "for i in range(5):\n",
    "    print(i)"
   ]
  },
  {
   "cell_type": "markdown",
   "metadata": {},
   "source": [
    "range(n) produces the integers $0,1,2,\\ldots,n-1$"
   ]
  },
  {
   "cell_type": "code",
   "execution_count": 17,
   "metadata": {},
   "outputs": [
    {
     "name": "stdout",
     "output_type": "stream",
     "text": [
      "5\n",
      "6\n",
      "7\n",
      "8\n",
      "9\n"
     ]
    }
   ],
   "source": [
    "for i in range(5,10):\n",
    "    print(i)"
   ]
  },
  {
   "cell_type": "markdown",
   "metadata": {},
   "source": [
    "range(m,n) produces the integers $m,m+1,\\ldots,n-1$ provided $m < n$."
   ]
  },
  {
   "cell_type": "code",
   "execution_count": 18,
   "metadata": {},
   "outputs": [
    {
     "name": "stdout",
     "output_type": "stream",
     "text": [
      "0\n",
      "2\n",
      "4\n",
      "6\n",
      "8\n"
     ]
    }
   ],
   "source": [
    "for i in range(0,10,2):\n",
    "    print(i)"
   ]
  },
  {
   "cell_type": "markdown",
   "metadata": {},
   "source": [
    "range(m,n,s) produces the integers $m,m+s,m+2s,\\ldots$ until $n$, but excluding $n$."
   ]
  },
  {
   "cell_type": "markdown",
   "metadata": {},
   "source": [
    "### Example: Sum a set of integers"
   ]
  },
  {
   "cell_type": "code",
   "execution_count": 19,
   "metadata": {},
   "outputs": [
    {
     "name": "stdout",
     "output_type": "stream",
     "text": [
      "Sum =  55\n"
     ]
    }
   ],
   "source": [
    "a = [1,2,3,4,5,6,7,8,9,10]\n",
    "s = 0\n",
    "for x in a:\n",
    "    s += x\n",
    "print('Sum = ',s)"
   ]
  },
  {
   "cell_type": "markdown",
   "metadata": {},
   "source": [
    "Note that ```s += x``` is shorthand for ```s = s + x```. Since we accumulate the sum into ```s```, we have to first initialize it to zero.\n",
    "\n",
    "Another way is to use indices"
   ]
  },
  {
   "cell_type": "code",
   "execution_count": 20,
   "metadata": {},
   "outputs": [
    {
     "name": "stdout",
     "output_type": "stream",
     "text": [
      "Sum =  55\n"
     ]
    }
   ],
   "source": [
    "s = 0\n",
    "for i in range(len(a)):\n",
    "    s += a[i]\n",
    "print('Sum = ',s)"
   ]
  },
  {
   "cell_type": "markdown",
   "metadata": {},
   "source": [
    "## while loop"
   ]
  },
  {
   "cell_type": "markdown",
   "metadata": {},
   "source": [
    "A for loop is useful when we know how many steps we have to do. When we dont know in advance how many steps are needed, a while loop may be more useful."
   ]
  },
  {
   "cell_type": "code",
   "execution_count": 21,
   "metadata": {},
   "outputs": [
    {
     "name": "stdout",
     "output_type": "stream",
     "text": [
      "1 0.47110121507859937\n",
      "2 1.3970836270347642\n",
      "3 1.7498875999707337\n",
      "4 2.3629793090850972\n",
      "5 2.4454987495531153\n",
      "6 2.596426205627141\n",
      "7 2.7941761476527844\n",
      "8 3.113634195302139\n",
      "9 3.1218380110766564\n",
      "10 4.014341297364837\n",
      "11 4.277714577352472\n",
      "12 4.322084922489415\n",
      "13 4.623716795419998\n",
      "14 5.190199491974565\n",
      "15 5.788281491434461\n",
      "16 6.449171113676679\n",
      "17 7.272840813192367\n",
      "18 7.821023011965037\n",
      "19 8.29354446647806\n",
      "20 8.843007044334968\n",
      "21 8.889564938112986\n",
      "22 9.267998156137786\n",
      "23 10.076286368345867\n"
     ]
    }
   ],
   "source": [
    "import random\n",
    "x = 0.0\n",
    "i = 0\n",
    "while x < 10.0:\n",
    "    x += random.random()\n",
    "    i += 1\n",
    "    print(i,x)"
   ]
  }
 ],
 "metadata": {
  "kernelspec": {
   "display_name": "Python 3",
   "language": "python",
   "name": "python3"
  },
  "language_info": {
   "codemirror_mode": {
    "name": "ipython",
    "version": 3
   },
   "file_extension": ".py",
   "mimetype": "text/x-python",
   "name": "python",
   "nbconvert_exporter": "python",
   "pygments_lexer": "ipython3",
   "version": "3.8.5"
  }
 },
 "nbformat": 4,
 "nbformat_minor": 2
}
