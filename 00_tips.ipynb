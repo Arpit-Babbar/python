{
 "cells": [
  {
   "cell_type": "markdown",
   "id": "a50968bd",
   "metadata": {},
   "source": [
    "# Tips for programming\n",
    "\n",
    " 1. Think about your problem, write it down mathematically.\n",
    " 1. Write down the algorithm.\n",
    " 1. Now start implementing it in code.\n",
    " 1. Possibly break the code down into some functions.\n",
    " 1. Put checks for array bounds, etc.\n",
    " 1. Be careful while dividing, taking square roots, etc.\n",
    " 1. Test the code on some inputs to see it is working correctly.\n",
    " 1. If code crashes with some error, read the error message and fix the mistake."
   ]
  }
 ],
 "metadata": {
  "kernelspec": {
   "display_name": "Python 3 (ipykernel)",
   "language": "python",
   "name": "python3"
  },
  "language_info": {
   "codemirror_mode": {
    "name": "ipython",
    "version": 3
   },
   "file_extension": ".py",
   "mimetype": "text/x-python",
   "name": "python",
   "nbconvert_exporter": "python",
   "pygments_lexer": "ipython3",
   "version": "3.9.9"
  }
 },
 "nbformat": 4,
 "nbformat_minor": 5
}
