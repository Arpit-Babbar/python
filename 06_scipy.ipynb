{
 "cells": [
  {
   "cell_type": "markdown",
   "metadata": {},
   "source": [
    "# Scipy"
   ]
  },
  {
   "cell_type": "code",
   "execution_count": 16,
   "metadata": {},
   "outputs": [],
   "source": [
    "import numpy as np\n",
    "import scipy.linalg as la"
   ]
  },
  {
   "cell_type": "markdown",
   "metadata": {},
   "source": [
    "## Use LU decomposition to solve Ax=b"
   ]
  },
  {
   "cell_type": "markdown",
   "metadata": {},
   "source": [
    "Create a random 5x5 matrix"
   ]
  },
  {
   "cell_type": "code",
   "execution_count": 17,
   "metadata": {},
   "outputs": [
    {
     "name": "stdout",
     "output_type": "stream",
     "text": [
      "[[0.76217607 0.93587646 0.0621792  0.05395765 0.95762167]\n",
      " [0.75426209 0.86059024 0.60073197 0.83603829 0.67571792]\n",
      " [0.90143409 0.74507891 0.20018855 0.75999944 0.55073499]\n",
      " [0.82776539 0.96894    0.20337231 0.86763403 0.89798932]\n",
      " [0.3873168  0.62189406 0.39206499 0.06584414 0.96067927]]\n"
     ]
    }
   ],
   "source": [
    "n = 5\n",
    "A = np.random.rand(n,n)\n",
    "print(A)"
   ]
  },
  {
   "cell_type": "markdown",
   "metadata": {},
   "source": [
    "Compute its LU factorization"
   ]
  },
  {
   "cell_type": "code",
   "execution_count": 18,
   "metadata": {},
   "outputs": [],
   "source": [
    "lu,piv = la.lu_factor(A)"
   ]
  },
  {
   "cell_type": "markdown",
   "metadata": {},
   "source": [
    "Create a right hand side vector"
   ]
  },
  {
   "cell_type": "code",
   "execution_count": 19,
   "metadata": {},
   "outputs": [],
   "source": [
    "b = np.random.rand(n)"
   ]
  },
  {
   "cell_type": "markdown",
   "metadata": {},
   "source": [
    "Solve A x = b"
   ]
  },
  {
   "cell_type": "code",
   "execution_count": 20,
   "metadata": {},
   "outputs": [
    {
     "name": "stdout",
     "output_type": "stream",
     "text": [
      "[-0.72230454 -0.05606646  0.30769721  0.15753338  0.95839391]\n"
     ]
    }
   ],
   "source": [
    "x = la.lu_solve((lu,piv),b)\n",
    "print(x)"
   ]
  },
  {
   "cell_type": "markdown",
   "metadata": {},
   "source": [
    "Check that x solves the problem"
   ]
  },
  {
   "cell_type": "code",
   "execution_count": 21,
   "metadata": {},
   "outputs": [
    {
     "name": "stdout",
     "output_type": "stream",
     "text": [
      "[5.55111512e-17 1.66533454e-16 8.32667268e-17 1.11022302e-16\n",
      " 1.11022302e-16]\n"
     ]
    }
   ],
   "source": [
    "print(A@x-b)"
   ]
  },
  {
   "cell_type": "markdown",
   "metadata": {},
   "source": [
    "If we do not want the LU decomposition, we can directly solve, which uses LAPACK "
   ]
  },
  {
   "cell_type": "code",
   "execution_count": 22,
   "metadata": {},
   "outputs": [
    {
     "name": "stdout",
     "output_type": "stream",
     "text": [
      "[-0.72230454 -0.05606646  0.30769721  0.15753338  0.95839391]\n"
     ]
    }
   ],
   "source": [
    "y = la.solve(A,b)\n",
    "print(y)"
   ]
  },
  {
   "cell_type": "markdown",
   "metadata": {},
   "source": [
    "## Sparse matrix"
   ]
  },
  {
   "cell_type": "markdown",
   "metadata": {},
   "source": [
    "Scipy provides methods that can work on sparse matrices, see https://docs.scipy.org/doc/scipy/reference/sparse.linalg.html\n",
    "\n",
    "Sparse matrix formats are provided by\n",
    "\n",
    " * csc_matrix: https://docs.scipy.org/doc/scipy/reference/generated/scipy.sparse.csc_matrix.html\n",
    " * csr_matrix: https://docs.scipy.org/doc/scipy/reference/generated/scipy.sparse.csr_matrix.html\n",
    " \n",
    " csc_matrix stores the entries column-wise, csr_matrix stores them row-wise."
   ]
  },
  {
   "cell_type": "code",
   "execution_count": 23,
   "metadata": {},
   "outputs": [
    {
     "name": "stdout",
     "output_type": "stream",
     "text": [
      "  (0, 0)\t3.0\n",
      "  (1, 0)\t1.0\n",
      "  (0, 1)\t2.0\n",
      "  (1, 1)\t-1.0\n",
      "  (2, 1)\t5.0\n",
      "  (2, 2)\t1.0\n",
      "[[ 3.  2.  0.]\n",
      " [ 1. -1.  0.]\n",
      " [ 0.  5.  1.]]\n"
     ]
    }
   ],
   "source": [
    "from scipy.sparse import csc_matrix, csr_matrix\n",
    "A = csc_matrix([[3, 2, 0], [1, -1, 0], [0, 5, 1]], dtype=float)\n",
    "print(A)\n",
    "print(A.todense())"
   ]
  },
  {
   "cell_type": "code",
   "execution_count": 24,
   "metadata": {},
   "outputs": [
    {
     "name": "stdout",
     "output_type": "stream",
     "text": [
      "  (0, 0)\t3.0\n",
      "  (0, 1)\t2.0\n",
      "  (1, 0)\t1.0\n",
      "  (1, 1)\t-1.0\n",
      "  (2, 1)\t5.0\n",
      "  (2, 2)\t1.0\n",
      "[[ 3.  2.  0.]\n",
      " [ 1. -1.  0.]\n",
      " [ 0.  5.  1.]]\n"
     ]
    }
   ],
   "source": [
    "A = csr_matrix([[3, 2, 0], [1, -1, 0], [0, 5, 1]], dtype=float)\n",
    "print(A)\n",
    "print(A.todense())"
   ]
  },
  {
   "cell_type": "markdown",
   "metadata": {},
   "source": [
    "We can construct sparse matrix by giving indices and values"
   ]
  },
  {
   "cell_type": "code",
   "execution_count": 26,
   "metadata": {},
   "outputs": [
    {
     "name": "stdout",
     "output_type": "stream",
     "text": [
      "[[ 3.  2.  0.]\n",
      " [ 1. -1.  0.]\n",
      " [ 0.  5.  1.]]\n"
     ]
    }
   ],
   "source": [
    "row = np.array([0, 0, 1, 1, 2, 2])\n",
    "col = np.array([0, 1, 0, 1, 1, 2])\n",
    "data = np.array([3.0, 2.0, 1.0, -1.0, 5.0, 1.0])\n",
    "A = csc_matrix((data, (row, col)), shape=(3, 3))\n",
    "print(A.todense())"
   ]
  }
 ],
 "metadata": {
  "kernelspec": {
   "display_name": "Python 3",
   "language": "python",
   "name": "python3"
  },
  "language_info": {
   "codemirror_mode": {
    "name": "ipython",
    "version": 3
   },
   "file_extension": ".py",
   "mimetype": "text/x-python",
   "name": "python",
   "nbconvert_exporter": "python",
   "pygments_lexer": "ipython3",
   "version": "3.7.6"
  }
 },
 "nbformat": 4,
 "nbformat_minor": 2
}
