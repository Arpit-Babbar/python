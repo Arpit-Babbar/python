{
 "cells": [
  {
   "cell_type": "markdown",
   "id": "a50968bd",
   "metadata": {},
   "source": [
    "# Tips for programming\n",
    "\n",
    " 1. Think about your problem, write it down mathematically.\n",
    " 1. Write down the algorithm.\n",
    " 1. Now start implementing it in code.\n",
    " 1. Possibly break the code down into some functions, so that you avoid repeating the same code in multiple places.\n",
    " 1. Put checks for array sizes, etc.\n",
    " 1. Be careful while dividing (denominator should not be zero), taking square roots (should be non-negative), etc.\n",
    " 1. Test the code on some inputs to see it is working correctly. Also test individual functions that they are correct.\n",
    " 1. If code crashes with some error, read the error message and fix the mistake. Cut and paste the error in a search engine to find solution.\n",
    " 1. Do not hard code values, define some variables and use them. This way, if you change the value, you only need to change it in one place.\n",
    " 1. Write comments in code to explain what you are doing.\n",
    " 1. Indent code for better readability.\n",
    " 1. Put spaces in formulae for better readability.\n",
    " ```\n",
    " f = x+y+z*sin(a)*cos(b)\n",
    " f = x + y + z * sin(a) * cos(b)   <== Better\n",
    " ```\n",
    " 1. Use brackets in formulae where needed. E.g., $f = \\frac{a}{b c}$\n",
    " $$\n",
    " \\textrm{f = a / b * c} \\qquad \\textrm{wrong, this gives} \\qquad f = \\left(\\frac{a}{b}\\right) c\n",
    " $$\n",
    " correct code is\n",
    " $$\n",
    " \\textrm{f = a / (b * c)}\n",
    " $$\n",
    " Another example\n",
    " $$\n",
    " \\textrm{f = x + y + z * sin(a) * cos(b)} \\qquad \\textrm{gives} \\qquad f = x + y + (z \\sin(a) \\cos(b)) \n",
    " $$\n",
    " $$\n",
    " \\textrm{f = (x + y + z) * sin(a) * cos(b)} \\qquad \\textrm{gives} \\qquad f = (x + y + z) \\sin(a) \\cos(b)\n",
    " $$\n",
    " 1. Put a decimal when assigning float values.\n",
    " 1. Avoid writing long lines.\n",
    " 1. Print some values to see things are correct, and to monitor progress of code."
   ]
  }
 ],
 "metadata": {
  "kernelspec": {
   "display_name": "Python 3 (ipykernel)",
   "language": "python",
   "name": "python3"
  },
  "language_info": {
   "codemirror_mode": {
    "name": "ipython",
    "version": 3
   },
   "file_extension": ".py",
   "mimetype": "text/x-python",
   "name": "python",
   "nbconvert_exporter": "python",
   "pygments_lexer": "ipython3",
   "version": "3.9.9"
  }
 },
 "nbformat": 4,
 "nbformat_minor": 5
}
